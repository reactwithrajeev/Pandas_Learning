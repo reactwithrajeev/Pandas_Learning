{
 "cells": [
  {
   "cell_type": "markdown",
   "id": "a870a8c0-ad25-4cb6-a9a4-b5777abaa853",
   "metadata": {},
   "source": [
    "# Starting Pandas "
   ]
  },
  {
   "cell_type": "markdown",
   "id": "457f8a76-ff07-44e4-806e-716e18e08aa7",
   "metadata": {},
   "source": [
    "# Padas Series"
   ]
  },
  {
   "cell_type": "code",
   "execution_count": null,
   "id": "28d5acad-dbca-46ee-bf95-833a5838c1a4",
   "metadata": {},
   "outputs": [],
   "source": [
    "-- One Dimension = Series\n",
    "-- Two Dimension = Data Frames"
   ]
  },
  {
   "cell_type": "code",
   "execution_count": 4,
   "id": "d1b0dad4-0924-4d7a-b72f-235eb6eb1b04",
   "metadata": {},
   "outputs": [],
   "source": [
    "import pandas as pd\n",
    "import numpy as np\n"
   ]
  },
  {
   "cell_type": "code",
   "execution_count": 7,
   "id": "127f6e0c-d616-44db-bcdc-c22e2407e9e9",
   "metadata": {},
   "outputs": [],
   "source": [
    "list_1 = [1,2,3,4,5,6]\n",
    "list_2 = ['Rajeev','Rakesh','Mohan','Subham']"
   ]
  },
  {
   "cell_type": "code",
   "execution_count": 8,
   "id": "05addc3d-c624-4e38-8302-d6e678b9a93b",
   "metadata": {},
   "outputs": [
    {
     "name": "stdout",
     "output_type": "stream",
     "text": [
      "0    1\n",
      "1    2\n",
      "2    3\n",
      "3    4\n",
      "4    5\n",
      "5    6\n",
      "dtype: int64\n",
      "-------------\n",
      "a    Rajeev\n",
      "b    Rakesh\n",
      "c     Mohan\n",
      "d    Subham\n",
      "dtype: object\n"
     ]
    }
   ],
   "source": [
    "series = pd.Series(list_1)\n",
    "series2 = pd.Series(list_2, index=['a','b','c','d'])\n",
    "print(series)\n",
    "print('-------------')\n",
    "print(series2)"
   ]
  },
  {
   "cell_type": "code",
   "execution_count": 11,
   "id": "5eec016c-44f5-4995-a9eb-1f2d2a9d74d2",
   "metadata": {},
   "outputs": [],
   "source": [
    "dict_1 = {\n",
    "    'a':1,\n",
    "    'b':2,\n",
    "    'c':3,\n",
    "    'd':4,\n",
    "    'e':5\n",
    "}"
   ]
  },
  {
   "cell_type": "code",
   "execution_count": 34,
   "id": "782acbf2-90ce-45d0-bce3-53e141116074",
   "metadata": {},
   "outputs": [
    {
     "name": "stdout",
     "output_type": "stream",
     "text": [
      "[1, 2, 3, 4, 5]\n",
      "a    1\n",
      "b    2\n",
      "c    3\n",
      "d    4\n",
      "e    5\n",
      "dtype: int64\n",
      "a    1\n",
      "b    2\n",
      "c    3\n",
      "d    4\n",
      "e    5\n",
      "dtype: int64\n"
     ]
    }
   ],
   "source": [
    "dic_series = pd.Series(dict_1)\n",
    "print(dic_series.to_list())\n",
    "print(dic_series.loc['a':'e'])\n",
    "print(dic_series.iloc[0:5])"
   ]
  },
  {
   "cell_type": "code",
   "execution_count": 15,
   "id": "fce86d3d-661e-479e-bd5c-cbbdc34da726",
   "metadata": {},
   "outputs": [
    {
     "data": {
      "text/plain": [
       "0    1\n",
       "1    2\n",
       "2    3\n",
       "3    4\n",
       "4    5\n",
       "5    6\n",
       "dtype: int64"
      ]
     },
     "execution_count": 15,
     "metadata": {},
     "output_type": "execute_result"
    }
   ],
   "source": [
    "series"
   ]
  },
  {
   "cell_type": "code",
   "execution_count": 16,
   "id": "0b141206-de67-4fac-9817-9d9ee9b8d25b",
   "metadata": {},
   "outputs": [
    {
     "data": {
      "text/plain": [
       "np.int64(4)"
      ]
     },
     "execution_count": 16,
     "metadata": {},
     "output_type": "execute_result"
    }
   ],
   "source": [
    "series[3]"
   ]
  },
  {
   "cell_type": "code",
   "execution_count": 30,
   "id": "7f4c4dab-9c6a-4599-8432-289f8abfe52a",
   "metadata": {},
   "outputs": [
    {
     "data": {
      "text/plain": [
       "0    1\n",
       "2    3\n",
       "4    5\n",
       "dtype: int64"
      ]
     },
     "execution_count": 30,
     "metadata": {},
     "output_type": "execute_result"
    }
   ],
   "source": [
    "series[0:6:2]"
   ]
  },
  {
   "cell_type": "code",
   "execution_count": 9,
   "id": "82408ca5-76f1-446c-a1fd-adcf006d4307",
   "metadata": {},
   "outputs": [
    {
     "name": "stdout",
     "output_type": "stream",
     "text": [
      "[1 2 3 4 5 6]\n"
     ]
    }
   ],
   "source": [
    "arr1=  np.array(list_1)\n",
    "print(arr1)"
   ]
  },
  {
   "cell_type": "code",
   "execution_count": 10,
   "id": "d2839dae-2f79-479d-8dd8-6f22774b58d4",
   "metadata": {},
   "outputs": [],
   "source": [
    "arrSeries = pd.Series(arr1)\n"
   ]
  },
  {
   "cell_type": "code",
   "execution_count": 12,
   "id": "9d668d6c-4d5b-4d3e-959b-3b9906e422c7",
   "metadata": {},
   "outputs": [
    {
     "name": "stdout",
     "output_type": "stream",
     "text": [
      "[[1 2 3 4]\n",
      " [5 6 7 8]]\n"
     ]
    }
   ],
   "source": [
    "arr2 = np.array([[1,2,3,4],[5,6,7,8]])\n",
    "print(arr2)"
   ]
  },
  {
   "cell_type": "code",
   "execution_count": 13,
   "id": "236ad880-93ed-4980-9c46-6932182d2723",
   "metadata": {},
   "outputs": [
    {
     "name": "stdout",
     "output_type": "stream",
     "text": [
      "   0  1  2  3\n",
      "0  1  2  3  4\n",
      "1  5  6  7  8\n"
     ]
    }
   ],
   "source": [
    "arr2Series = pd.DataFrame(arr2)\n",
    "print(arr2Series)"
   ]
  },
  {
   "cell_type": "markdown",
   "id": "d2cbb2d5-d4ef-4470-9d6c-9114fc5c9b07",
   "metadata": {},
   "source": [
    "# Data Frames"
   ]
  },
  {
   "cell_type": "code",
   "execution_count": 14,
   "id": "3ff910e8-96ad-4c31-a960-414f6e646f69",
   "metadata": {},
   "outputs": [
    {
     "data": {
      "text/html": [
       "<div>\n",
       "<style scoped>\n",
       "    .dataframe tbody tr th:only-of-type {\n",
       "        vertical-align: middle;\n",
       "    }\n",
       "\n",
       "    .dataframe tbody tr th {\n",
       "        vertical-align: top;\n",
       "    }\n",
       "\n",
       "    .dataframe thead th {\n",
       "        text-align: right;\n",
       "    }\n",
       "</style>\n",
       "<table border=\"1\" class=\"dataframe\">\n",
       "  <thead>\n",
       "    <tr style=\"text-align: right;\">\n",
       "      <th></th>\n",
       "      <th>0</th>\n",
       "      <th>1</th>\n",
       "      <th>2</th>\n",
       "    </tr>\n",
       "  </thead>\n",
       "  <tbody>\n",
       "    <tr>\n",
       "      <th>0</th>\n",
       "      <td>1</td>\n",
       "      <td>2</td>\n",
       "      <td>3</td>\n",
       "    </tr>\n",
       "    <tr>\n",
       "      <th>1</th>\n",
       "      <td>4</td>\n",
       "      <td>5</td>\n",
       "      <td>6</td>\n",
       "    </tr>\n",
       "    <tr>\n",
       "      <th>2</th>\n",
       "      <td>7</td>\n",
       "      <td>8</td>\n",
       "      <td>9</td>\n",
       "    </tr>\n",
       "  </tbody>\n",
       "</table>\n",
       "</div>"
      ],
      "text/plain": [
       "   0  1  2\n",
       "0  1  2  3\n",
       "1  4  5  6\n",
       "2  7  8  9"
      ]
     },
     "execution_count": 14,
     "metadata": {},
     "output_type": "execute_result"
    }
   ],
   "source": [
    "data_frame = pd.DataFrame([[1,2,3],[4,5,6],[7,8,9]] )\n",
    "data_frame"
   ]
  },
  {
   "cell_type": "code",
   "execution_count": 15,
   "id": "c751e1e6-20de-4885-aedb-ba394b0f946d",
   "metadata": {},
   "outputs": [
    {
     "data": {
      "text/html": [
       "<div>\n",
       "<style scoped>\n",
       "    .dataframe tbody tr th:only-of-type {\n",
       "        vertical-align: middle;\n",
       "    }\n",
       "\n",
       "    .dataframe tbody tr th {\n",
       "        vertical-align: top;\n",
       "    }\n",
       "\n",
       "    .dataframe thead th {\n",
       "        text-align: right;\n",
       "    }\n",
       "</style>\n",
       "<table border=\"1\" class=\"dataframe\">\n",
       "  <thead>\n",
       "    <tr style=\"text-align: right;\">\n",
       "      <th></th>\n",
       "      <th>A</th>\n",
       "      <th>B</th>\n",
       "      <th>C</th>\n",
       "    </tr>\n",
       "  </thead>\n",
       "  <tbody>\n",
       "    <tr>\n",
       "      <th>0</th>\n",
       "      <td>1</td>\n",
       "      <td>2</td>\n",
       "      <td>3</td>\n",
       "    </tr>\n",
       "    <tr>\n",
       "      <th>1</th>\n",
       "      <td>4</td>\n",
       "      <td>5</td>\n",
       "      <td>6</td>\n",
       "    </tr>\n",
       "    <tr>\n",
       "      <th>2</th>\n",
       "      <td>7</td>\n",
       "      <td>8</td>\n",
       "      <td>9</td>\n",
       "    </tr>\n",
       "  </tbody>\n",
       "</table>\n",
       "</div>"
      ],
      "text/plain": [
       "   A  B  C\n",
       "0  1  2  3\n",
       "1  4  5  6\n",
       "2  7  8  9"
      ]
     },
     "execution_count": 15,
     "metadata": {},
     "output_type": "execute_result"
    }
   ],
   "source": [
    "data_frame2 = pd.DataFrame([[1,2,3],[4,5,6],[7,8,9]], columns=['A','B','C'])\n",
    "data_frame2"
   ]
  },
  {
   "cell_type": "code",
   "execution_count": 19,
   "id": "28cefe1e-306d-47d4-b9c5-fd1ba323be29",
   "metadata": {},
   "outputs": [
    {
     "data": {
      "text/html": [
       "<div>\n",
       "<style scoped>\n",
       "    .dataframe tbody tr th:only-of-type {\n",
       "        vertical-align: middle;\n",
       "    }\n",
       "\n",
       "    .dataframe tbody tr th {\n",
       "        vertical-align: top;\n",
       "    }\n",
       "\n",
       "    .dataframe thead th {\n",
       "        text-align: right;\n",
       "    }\n",
       "</style>\n",
       "<table border=\"1\" class=\"dataframe\">\n",
       "  <thead>\n",
       "    <tr style=\"text-align: right;\">\n",
       "      <th></th>\n",
       "      <th>Name</th>\n",
       "      <th>Roll No.</th>\n",
       "      <th>City</th>\n",
       "    </tr>\n",
       "  </thead>\n",
       "  <tbody>\n",
       "    <tr>\n",
       "      <th>0</th>\n",
       "      <td>Rajeev</td>\n",
       "      <td>123</td>\n",
       "      <td>GGN</td>\n",
       "    </tr>\n",
       "    <tr>\n",
       "      <th>1</th>\n",
       "      <td>Rohan</td>\n",
       "      <td>456</td>\n",
       "      <td>DEL</td>\n",
       "    </tr>\n",
       "    <tr>\n",
       "      <th>2</th>\n",
       "      <td>Mukesh</td>\n",
       "      <td>789</td>\n",
       "      <td>MUM</td>\n",
       "    </tr>\n",
       "  </tbody>\n",
       "</table>\n",
       "</div>"
      ],
      "text/plain": [
       "     Name  Roll No. City\n",
       "0  Rajeev       123  GGN\n",
       "1   Rohan       456  DEL\n",
       "2  Mukesh       789  MUM"
      ]
     },
     "execution_count": 19,
     "metadata": {},
     "output_type": "execute_result"
    }
   ],
   "source": [
    "df_dic = {\n",
    "    'Name':['Rajeev','Rohan','Mukesh'],\n",
    "    'Roll No.':[123,456,789,],\n",
    "    'City':['GGN','DEL','MUM',]\n",
    "}\n",
    "df = pd.DataFrame(df_dic)\n",
    "df"
   ]
  },
  {
   "cell_type": "code",
   "execution_count": 25,
   "id": "d1cde8e9-d344-4df0-92a0-efc9dff7e30b",
   "metadata": {},
   "outputs": [
    {
     "data": {
      "text/html": [
       "<div>\n",
       "<style scoped>\n",
       "    .dataframe tbody tr th:only-of-type {\n",
       "        vertical-align: middle;\n",
       "    }\n",
       "\n",
       "    .dataframe tbody tr th {\n",
       "        vertical-align: top;\n",
       "    }\n",
       "\n",
       "    .dataframe thead th {\n",
       "        text-align: right;\n",
       "    }\n",
       "</style>\n",
       "<table border=\"1\" class=\"dataframe\">\n",
       "  <thead>\n",
       "    <tr style=\"text-align: right;\">\n",
       "      <th></th>\n",
       "      <th>employee_id</th>\n",
       "      <th>first_name</th>\n",
       "      <th>last_name</th>\n",
       "      <th>email</th>\n",
       "      <th>department</th>\n",
       "      <th>salary</th>\n",
       "      <th>joining_date</th>\n",
       "      <th>age</th>\n",
       "    </tr>\n",
       "  </thead>\n",
       "  <tbody>\n",
       "    <tr>\n",
       "      <th>0</th>\n",
       "      <td>1</td>\n",
       "      <td>Joshua</td>\n",
       "      <td>Ramos</td>\n",
       "      <td>alexandra29@gmail.com</td>\n",
       "      <td>Operations</td>\n",
       "      <td>65313.80</td>\n",
       "      <td>2024-05-23</td>\n",
       "      <td>42</td>\n",
       "    </tr>\n",
       "    <tr>\n",
       "      <th>1</th>\n",
       "      <td>2</td>\n",
       "      <td>Christina</td>\n",
       "      <td>Clark</td>\n",
       "      <td>littlekyle@yahoo.com</td>\n",
       "      <td>IT</td>\n",
       "      <td>58827.32</td>\n",
       "      <td>2021-10-02</td>\n",
       "      <td>46</td>\n",
       "    </tr>\n",
       "    <tr>\n",
       "      <th>2</th>\n",
       "      <td>3</td>\n",
       "      <td>Jonathon</td>\n",
       "      <td>Sullivan</td>\n",
       "      <td>tannerivan@johnson.com</td>\n",
       "      <td>Operations</td>\n",
       "      <td>57427.31</td>\n",
       "      <td>2020-04-30</td>\n",
       "      <td>50</td>\n",
       "    </tr>\n",
       "    <tr>\n",
       "      <th>3</th>\n",
       "      <td>4</td>\n",
       "      <td>Clinton</td>\n",
       "      <td>Aguirre</td>\n",
       "      <td>jamieortega@yahoo.com</td>\n",
       "      <td>HR</td>\n",
       "      <td>45352.74</td>\n",
       "      <td>2021-04-04</td>\n",
       "      <td>55</td>\n",
       "    </tr>\n",
       "    <tr>\n",
       "      <th>4</th>\n",
       "      <td>5</td>\n",
       "      <td>Veronica</td>\n",
       "      <td>Weber</td>\n",
       "      <td>trevinosteven@ramos.com</td>\n",
       "      <td>Operations</td>\n",
       "      <td>78772.56</td>\n",
       "      <td>2020-10-06</td>\n",
       "      <td>51</td>\n",
       "    </tr>\n",
       "    <tr>\n",
       "      <th>...</th>\n",
       "      <td>...</td>\n",
       "      <td>...</td>\n",
       "      <td>...</td>\n",
       "      <td>...</td>\n",
       "      <td>...</td>\n",
       "      <td>...</td>\n",
       "      <td>...</td>\n",
       "      <td>...</td>\n",
       "    </tr>\n",
       "    <tr>\n",
       "      <th>995</th>\n",
       "      <td>996</td>\n",
       "      <td>Brandi</td>\n",
       "      <td>Cowan</td>\n",
       "      <td>qsimmons@gmail.com</td>\n",
       "      <td>Finance</td>\n",
       "      <td>97102.57</td>\n",
       "      <td>2024-11-07</td>\n",
       "      <td>41</td>\n",
       "    </tr>\n",
       "    <tr>\n",
       "      <th>996</th>\n",
       "      <td>997</td>\n",
       "      <td>Michael</td>\n",
       "      <td>Gray</td>\n",
       "      <td>curtisruben@gmail.com</td>\n",
       "      <td>IT</td>\n",
       "      <td>40509.73</td>\n",
       "      <td>2023-03-11</td>\n",
       "      <td>37</td>\n",
       "    </tr>\n",
       "    <tr>\n",
       "      <th>997</th>\n",
       "      <td>998</td>\n",
       "      <td>Cassandra</td>\n",
       "      <td>Rodriguez</td>\n",
       "      <td>brittneytran@dunlap.info</td>\n",
       "      <td>Finance</td>\n",
       "      <td>72886.03</td>\n",
       "      <td>2024-07-25</td>\n",
       "      <td>32</td>\n",
       "    </tr>\n",
       "    <tr>\n",
       "      <th>998</th>\n",
       "      <td>999</td>\n",
       "      <td>April</td>\n",
       "      <td>Howard</td>\n",
       "      <td>crystalcohen@smith.com</td>\n",
       "      <td>Operations</td>\n",
       "      <td>32177.63</td>\n",
       "      <td>2022-04-06</td>\n",
       "      <td>29</td>\n",
       "    </tr>\n",
       "    <tr>\n",
       "      <th>999</th>\n",
       "      <td>1000</td>\n",
       "      <td>Benjamin</td>\n",
       "      <td>Palmer</td>\n",
       "      <td>darylsnyder@williams.com</td>\n",
       "      <td>IT</td>\n",
       "      <td>87670.82</td>\n",
       "      <td>2020-04-03</td>\n",
       "      <td>38</td>\n",
       "    </tr>\n",
       "  </tbody>\n",
       "</table>\n",
       "<p>1000 rows × 8 columns</p>\n",
       "</div>"
      ],
      "text/plain": [
       "     employee_id first_name  last_name                     email  department  \\\n",
       "0              1     Joshua      Ramos     alexandra29@gmail.com  Operations   \n",
       "1              2  Christina      Clark      littlekyle@yahoo.com          IT   \n",
       "2              3   Jonathon   Sullivan    tannerivan@johnson.com  Operations   \n",
       "3              4    Clinton    Aguirre     jamieortega@yahoo.com          HR   \n",
       "4              5   Veronica      Weber   trevinosteven@ramos.com  Operations   \n",
       "..           ...        ...        ...                       ...         ...   \n",
       "995          996     Brandi      Cowan        qsimmons@gmail.com     Finance   \n",
       "996          997    Michael       Gray     curtisruben@gmail.com          IT   \n",
       "997          998  Cassandra  Rodriguez  brittneytran@dunlap.info     Finance   \n",
       "998          999      April     Howard    crystalcohen@smith.com  Operations   \n",
       "999         1000   Benjamin     Palmer  darylsnyder@williams.com          IT   \n",
       "\n",
       "       salary joining_date  age  \n",
       "0    65313.80   2024-05-23   42  \n",
       "1    58827.32   2021-10-02   46  \n",
       "2    57427.31   2020-04-30   50  \n",
       "3    45352.74   2021-04-04   55  \n",
       "4    78772.56   2020-10-06   51  \n",
       "..        ...          ...  ...  \n",
       "995  97102.57   2024-11-07   41  \n",
       "996  40509.73   2023-03-11   37  \n",
       "997  72886.03   2024-07-25   32  \n",
       "998  32177.63   2022-04-06   29  \n",
       "999  87670.82   2020-04-03   38  \n",
       "\n",
       "[1000 rows x 8 columns]"
      ]
     },
     "execution_count": 25,
     "metadata": {},
     "output_type": "execute_result"
    }
   ],
   "source": [
    "employees_data = pd.read_csv(\"C:/Data Analytics/MySql/Practice/ST - SQL ALL PRACTICE FILES/All Excel Practice Files/employee_data.csv\")\n",
    "employees_data\n"
   ]
  },
  {
   "cell_type": "code",
   "execution_count": 26,
   "id": "fbafbaff-aa8d-4694-a2ea-f6395115b19e",
   "metadata": {},
   "outputs": [
    {
     "data": {
      "text/plain": [
       "(1000, 8)"
      ]
     },
     "execution_count": 26,
     "metadata": {},
     "output_type": "execute_result"
    }
   ],
   "source": [
    "employees_data.shape"
   ]
  },
  {
   "cell_type": "code",
   "execution_count": 27,
   "id": "3cb9c266-1a0b-412a-8901-12eda7d72e55",
   "metadata": {},
   "outputs": [
    {
     "data": {
      "text/plain": [
       "employee_id       int64\n",
       "first_name       object\n",
       "last_name        object\n",
       "email            object\n",
       "department       object\n",
       "salary          float64\n",
       "joining_date     object\n",
       "age               int64\n",
       "dtype: object"
      ]
     },
     "execution_count": 27,
     "metadata": {},
     "output_type": "execute_result"
    }
   ],
   "source": [
    "employees_data.dtypes"
   ]
  },
  {
   "cell_type": "code",
   "execution_count": 28,
   "id": "5a244f9b-336b-44c5-bc8f-5e47162ce839",
   "metadata": {},
   "outputs": [
    {
     "name": "stdout",
     "output_type": "stream",
     "text": [
      "<class 'pandas.core.frame.DataFrame'>\n",
      "RangeIndex: 1000 entries, 0 to 999\n",
      "Data columns (total 8 columns):\n",
      " #   Column        Non-Null Count  Dtype  \n",
      "---  ------        --------------  -----  \n",
      " 0   employee_id   1000 non-null   int64  \n",
      " 1   first_name    1000 non-null   object \n",
      " 2   last_name     1000 non-null   object \n",
      " 3   email         1000 non-null   object \n",
      " 4   department    1000 non-null   object \n",
      " 5   salary        1000 non-null   float64\n",
      " 6   joining_date  1000 non-null   object \n",
      " 7   age           1000 non-null   int64  \n",
      "dtypes: float64(1), int64(2), object(5)\n",
      "memory usage: 62.6+ KB\n"
     ]
    }
   ],
   "source": [
    "employees_data.info()"
   ]
  },
  {
   "cell_type": "code",
   "execution_count": 35,
   "id": "4b9f67a6-d0f9-494a-a2f7-d7d76c9dddea",
   "metadata": {},
   "outputs": [
    {
     "data": {
      "text/html": [
       "<div>\n",
       "<style scoped>\n",
       "    .dataframe tbody tr th:only-of-type {\n",
       "        vertical-align: middle;\n",
       "    }\n",
       "\n",
       "    .dataframe tbody tr th {\n",
       "        vertical-align: top;\n",
       "    }\n",
       "\n",
       "    .dataframe thead th {\n",
       "        text-align: right;\n",
       "    }\n",
       "</style>\n",
       "<table border=\"1\" class=\"dataframe\">\n",
       "  <thead>\n",
       "    <tr style=\"text-align: right;\">\n",
       "      <th></th>\n",
       "      <th>first_name</th>\n",
       "      <th>last_name</th>\n",
       "      <th>email</th>\n",
       "    </tr>\n",
       "  </thead>\n",
       "  <tbody>\n",
       "    <tr>\n",
       "      <th>0</th>\n",
       "      <td>Joshua</td>\n",
       "      <td>Ramos</td>\n",
       "      <td>alexandra29@gmail.com</td>\n",
       "    </tr>\n",
       "    <tr>\n",
       "      <th>1</th>\n",
       "      <td>Christina</td>\n",
       "      <td>Clark</td>\n",
       "      <td>littlekyle@yahoo.com</td>\n",
       "    </tr>\n",
       "    <tr>\n",
       "      <th>2</th>\n",
       "      <td>Jonathon</td>\n",
       "      <td>Sullivan</td>\n",
       "      <td>tannerivan@johnson.com</td>\n",
       "    </tr>\n",
       "    <tr>\n",
       "      <th>3</th>\n",
       "      <td>Clinton</td>\n",
       "      <td>Aguirre</td>\n",
       "      <td>jamieortega@yahoo.com</td>\n",
       "    </tr>\n",
       "    <tr>\n",
       "      <th>4</th>\n",
       "      <td>Veronica</td>\n",
       "      <td>Weber</td>\n",
       "      <td>trevinosteven@ramos.com</td>\n",
       "    </tr>\n",
       "  </tbody>\n",
       "</table>\n",
       "</div>"
      ],
      "text/plain": [
       "  first_name last_name                    email\n",
       "0     Joshua     Ramos    alexandra29@gmail.com\n",
       "1  Christina     Clark     littlekyle@yahoo.com\n",
       "2   Jonathon  Sullivan   tannerivan@johnson.com\n",
       "3    Clinton   Aguirre    jamieortega@yahoo.com\n",
       "4   Veronica     Weber  trevinosteven@ramos.com"
      ]
     },
     "execution_count": 35,
     "metadata": {},
     "output_type": "execute_result"
    }
   ],
   "source": [
    "employees_data.iloc[0:5,1:4]"
   ]
  },
  {
   "cell_type": "code",
   "execution_count": 37,
   "id": "1749a6cb-420f-4f4b-b93c-720337653510",
   "metadata": {},
   "outputs": [
    {
     "data": {
      "text/html": [
       "<div>\n",
       "<style scoped>\n",
       "    .dataframe tbody tr th:only-of-type {\n",
       "        vertical-align: middle;\n",
       "    }\n",
       "\n",
       "    .dataframe tbody tr th {\n",
       "        vertical-align: top;\n",
       "    }\n",
       "\n",
       "    .dataframe thead th {\n",
       "        text-align: right;\n",
       "    }\n",
       "</style>\n",
       "<table border=\"1\" class=\"dataframe\">\n",
       "  <thead>\n",
       "    <tr style=\"text-align: right;\">\n",
       "      <th></th>\n",
       "      <th>department</th>\n",
       "      <th>salary</th>\n",
       "      <th>joining_date</th>\n",
       "      <th>age</th>\n",
       "    </tr>\n",
       "  </thead>\n",
       "  <tbody>\n",
       "    <tr>\n",
       "      <th>0</th>\n",
       "      <td>Operations</td>\n",
       "      <td>65313.80</td>\n",
       "      <td>2024-05-23</td>\n",
       "      <td>42</td>\n",
       "    </tr>\n",
       "    <tr>\n",
       "      <th>1</th>\n",
       "      <td>IT</td>\n",
       "      <td>58827.32</td>\n",
       "      <td>2021-10-02</td>\n",
       "      <td>46</td>\n",
       "    </tr>\n",
       "    <tr>\n",
       "      <th>2</th>\n",
       "      <td>Operations</td>\n",
       "      <td>57427.31</td>\n",
       "      <td>2020-04-30</td>\n",
       "      <td>50</td>\n",
       "    </tr>\n",
       "    <tr>\n",
       "      <th>3</th>\n",
       "      <td>HR</td>\n",
       "      <td>45352.74</td>\n",
       "      <td>2021-04-04</td>\n",
       "      <td>55</td>\n",
       "    </tr>\n",
       "    <tr>\n",
       "      <th>4</th>\n",
       "      <td>Operations</td>\n",
       "      <td>78772.56</td>\n",
       "      <td>2020-10-06</td>\n",
       "      <td>51</td>\n",
       "    </tr>\n",
       "    <tr>\n",
       "      <th>5</th>\n",
       "      <td>Finance</td>\n",
       "      <td>30448.72</td>\n",
       "      <td>2020-05-05</td>\n",
       "      <td>41</td>\n",
       "    </tr>\n",
       "    <tr>\n",
       "      <th>6</th>\n",
       "      <td>Marketing</td>\n",
       "      <td>88476.72</td>\n",
       "      <td>2020-10-15</td>\n",
       "      <td>48</td>\n",
       "    </tr>\n",
       "    <tr>\n",
       "      <th>7</th>\n",
       "      <td>Marketing</td>\n",
       "      <td>49895.55</td>\n",
       "      <td>2021-06-08</td>\n",
       "      <td>33</td>\n",
       "    </tr>\n",
       "    <tr>\n",
       "      <th>8</th>\n",
       "      <td>Finance</td>\n",
       "      <td>88878.64</td>\n",
       "      <td>2024-07-17</td>\n",
       "      <td>47</td>\n",
       "    </tr>\n",
       "    <tr>\n",
       "      <th>9</th>\n",
       "      <td>HR</td>\n",
       "      <td>88331.24</td>\n",
       "      <td>2020-03-23</td>\n",
       "      <td>38</td>\n",
       "    </tr>\n",
       "    <tr>\n",
       "      <th>10</th>\n",
       "      <td>Marketing</td>\n",
       "      <td>68588.45</td>\n",
       "      <td>2020-07-21</td>\n",
       "      <td>26</td>\n",
       "    </tr>\n",
       "  </tbody>\n",
       "</table>\n",
       "</div>"
      ],
      "text/plain": [
       "    department    salary joining_date  age\n",
       "0   Operations  65313.80   2024-05-23   42\n",
       "1           IT  58827.32   2021-10-02   46\n",
       "2   Operations  57427.31   2020-04-30   50\n",
       "3           HR  45352.74   2021-04-04   55\n",
       "4   Operations  78772.56   2020-10-06   51\n",
       "5      Finance  30448.72   2020-05-05   41\n",
       "6    Marketing  88476.72   2020-10-15   48\n",
       "7    Marketing  49895.55   2021-06-08   33\n",
       "8      Finance  88878.64   2024-07-17   47\n",
       "9           HR  88331.24   2020-03-23   38\n",
       "10   Marketing  68588.45   2020-07-21   26"
      ]
     },
     "execution_count": 37,
     "metadata": {},
     "output_type": "execute_result"
    }
   ],
   "source": [
    "employees_data.loc[:10,'department':'age']"
   ]
  },
  {
   "cell_type": "code",
   "execution_count": 38,
   "id": "3ffe1f4f-9afd-48e8-b796-24d5d2d6313c",
   "metadata": {},
   "outputs": [
    {
     "data": {
      "text/plain": [
       "Index(['employee_id', 'first_name', 'last_name', 'email', 'department',\n",
       "       'salary', 'joining_date', 'age'],\n",
       "      dtype='object')"
      ]
     },
     "execution_count": 38,
     "metadata": {},
     "output_type": "execute_result"
    }
   ],
   "source": [
    "employees_data.columns"
   ]
  },
  {
   "cell_type": "code",
   "execution_count": null,
   "id": "39bafe33-55ee-4cf0-b3fb-121925b240bf",
   "metadata": {},
   "outputs": [],
   "source": []
  }
 ],
 "metadata": {
  "kernelspec": {
   "display_name": "Python 3 (ipykernel)",
   "language": "python",
   "name": "python3"
  },
  "language_info": {
   "codemirror_mode": {
    "name": "ipython",
    "version": 3
   },
   "file_extension": ".py",
   "mimetype": "text/x-python",
   "name": "python",
   "nbconvert_exporter": "python",
   "pygments_lexer": "ipython3",
   "version": "3.11.11"
  }
 },
 "nbformat": 4,
 "nbformat_minor": 5
}
